{
  "nbformat": 4,
  "nbformat_minor": 0,
  "metadata": {
    "colab": {
      "private_outputs": true,
      "provenance": [],
      "collapsed_sections": [
        "gIfDvo9L0UH2"
      ],
      "include_colab_link": true
    },
    "kernelspec": {
      "name": "python3",
      "display_name": "Python 3"
    },
    "language_info": {
      "name": "python"
    }
  },
  "cells": [
    {
      "cell_type": "markdown",
      "metadata": {
        "id": "view-in-github",
        "colab_type": "text"
      },
      "source": [
        "<a href=\"https://colab.research.google.com/github/CodeNinjaSatyam/EDA-on-hotel-booking-analysis/blob/main/EDA_on_Hotel_Booking_Analysis.ipynb\" target=\"_parent\"><img src=\"https://colab.research.google.com/assets/colab-badge.svg\" alt=\"Open In Colab\"/></a>"
      ]
    },
    {
      "cell_type": "markdown",
      "source": [
        "# **Project Name**    - Hotel Booking EDA Project\n",
        "\n"
      ],
      "metadata": {
        "id": "vncDsAP0Gaoa"
      }
    },
    {
      "cell_type": "markdown",
      "source": [
        "##### **Project Type** - EDA (Exploratory Data Analysis)\n",
        "##### **Contribution** - Individual\n",
        "##### **Team Member 1 -** Satyam Satish Ghule"
      ],
      "metadata": {
        "id": "beRrZCGUAJYm"
      }
    },
    {
      "cell_type": "markdown",
      "source": [
        "# **Project Summary -**"
      ],
      "metadata": {
        "id": "FJNUwmbgGyua"
      }
    },
    {
      "cell_type": "markdown",
      "source": [
        "This project aims to perform an exploratory data analysis (EDA) on a dataset related to hotel bookings. The dataset contains information about hotel bookings, including guest details, booking dates, room types, and more. Through this EDA project, we will gain insights into booking trends, customer preferences, and other patterns that can help in making informed business decisions."
      ],
      "metadata": {
        "id": "F6v_1wHtG2nS"
      }
    },
    {
      "cell_type": "markdown",
      "source": [
        "# **GitHub Link -**"
      ],
      "metadata": {
        "id": "w6K7xa23Elo4"
      }
    },
    {
      "cell_type": "markdown",
      "source": [
        "Provide your GitHub Link here."
      ],
      "metadata": {
        "id": "h1o69JH3Eqqn"
      }
    },
    {
      "cell_type": "markdown",
      "source": [
        "# **Problem Statement**\n"
      ],
      "metadata": {
        "id": "yQaldy8SH6Dl"
      }
    },
    {
      "cell_type": "markdown",
      "source": [
        "The goal of this EDA project is to understand the dataset and extract valuable insights that can assist hotel management in making data-driven decisions. Specifically, we aim to answer questions related to booking trends, customer demographics, and factors influencing booking cancellations."
      ],
      "metadata": {
        "id": "DpeJGUA3kjGy"
      }
    },
    {
      "cell_type": "markdown",
      "source": [
        "#### **Define Your Business Objective?**"
      ],
      "metadata": {
        "id": "PH-0ReGfmX4f"
      }
    },
    {
      "cell_type": "markdown",
      "source": [
        "Our business objective is to:\n",
        "\n",
        "1. Identify booking trends by analyzing the data.\n",
        "2. Understand customer preferences and demographics.\n",
        "3. Investigate factors that lead to booking cancellations.\n",
        "4. Provide insights that can help improve the hotel's booking system and customer satisfaction."
      ],
      "metadata": {
        "id": "PhDvGCAqmjP1"
      }
    },
    {
      "cell_type": "markdown",
      "source": [
        "# **General Guidelines** : -  "
      ],
      "metadata": {
        "id": "mDgbUHAGgjLW"
      }
    },
    {
      "cell_type": "markdown",
      "source": [
        "1.   Well-structured, formatted, and commented code is required.\n",
        "2.   Exception Handling, Production Grade Code & Deployment Ready Code will be a plus. Those students will be awarded some additional credits.\n",
        "     \n",
        "     The additional credits will have advantages over other students during Star Student selection.\n",
        "       \n",
        "             [ Note: - Deployment Ready Code is defined as, the whole .ipynb notebook should be executable in one go\n",
        "                       without a single error logged. ]\n",
        "\n",
        "3.   Each and every logic should have proper comments.\n",
        "4. You may add as many number of charts you want. Make Sure for each and every chart the following format should be answered.\n",
        "        \n",
        "\n",
        "```\n",
        "# Chart visualization code\n",
        "```\n",
        "            \n",
        "\n",
        "*   Why did you pick the specific chart?\n",
        "*   What is/are the insight(s) found from the chart?\n",
        "* Will the gained insights help creating a positive business impact?\n",
        "Are there any insights that lead to negative growth? Justify with specific reason.\n",
        "\n",
        "5. You have to create at least 20 logical & meaningful charts having important insights.\n",
        "\n",
        "\n",
        "[ Hints : - Do the Vizualization in  a structured way while following \"UBM\" Rule.\n",
        "\n",
        "U - Univariate Analysis,\n",
        "\n",
        "B - Bivariate Analysis (Numerical - Categorical, Numerical - Numerical, Categorical - Categorical)\n",
        "\n",
        "M - Multivariate Analysis\n",
        " ]\n",
        "\n",
        "\n",
        "\n"
      ],
      "metadata": {
        "id": "ZrxVaUj-hHfC"
      }
    },
    {
      "cell_type": "markdown",
      "source": [
        "# ***Let's Begin !***"
      ],
      "metadata": {
        "id": "O_i_v8NEhb9l"
      }
    },
    {
      "cell_type": "markdown",
      "source": [
        "## ***1. Know Your Data***"
      ],
      "metadata": {
        "id": "HhfV-JJviCcP"
      }
    },
    {
      "cell_type": "markdown",
      "source": [
        "### Import Libraries"
      ],
      "metadata": {
        "id": "Y3lxredqlCYt"
      }
    },
    {
      "cell_type": "code",
      "source": [
        "# Import Libraries\n",
        "import numpy as np\n",
        "import pandas as pd\n",
        "import matplotlib.pyplot as plt\n",
        "import seaborn as sns"
      ],
      "metadata": {
        "id": "M8Vqi-pPk-HR"
      },
      "execution_count": null,
      "outputs": []
    },
    {
      "cell_type": "markdown",
      "source": [
        "### Dataset Loading"
      ],
      "metadata": {
        "id": "3RnN4peoiCZX"
      }
    },
    {
      "cell_type": "code",
      "source": [
        "# Load Dataset\n",
        "# Upload the data set file and run this\n",
        "data = pd.read_csv(\"/content/Hotel Bookings.csv\")"
      ],
      "metadata": {
        "id": "4CkvbW_SlZ_R"
      },
      "execution_count": null,
      "outputs": []
    },
    {
      "cell_type": "markdown",
      "source": [
        "### Dataset First View"
      ],
      "metadata": {
        "id": "x71ZqKXriCWQ"
      }
    },
    {
      "cell_type": "code",
      "source": [
        "# Dataset First Look\n",
        "data.head()"
      ],
      "metadata": {
        "id": "LWNFOSvLl09H"
      },
      "execution_count": null,
      "outputs": []
    },
    {
      "cell_type": "markdown",
      "source": [
        "### Dataset Rows & Columns count"
      ],
      "metadata": {
        "id": "7hBIi_osiCS2"
      }
    },
    {
      "cell_type": "code",
      "source": [
        "# Dataset Rows & Columns count\n",
        "rows, columns = data.shape\n",
        "print(f\"Number of rows: {rows}\")\n",
        "print(f\"Number of columns: {columns}\")"
      ],
      "metadata": {
        "id": "Kllu7SJgmLij"
      },
      "execution_count": null,
      "outputs": []
    },
    {
      "cell_type": "markdown",
      "source": [
        "### Dataset Information"
      ],
      "metadata": {
        "id": "JlHwYmJAmNHm"
      }
    },
    {
      "cell_type": "code",
      "source": [
        "# Dataset Info\n",
        "data.info()"
      ],
      "metadata": {
        "id": "e9hRXRi6meOf"
      },
      "execution_count": null,
      "outputs": []
    },
    {
      "cell_type": "markdown",
      "source": [
        "#### Duplicate Values"
      ],
      "metadata": {
        "id": "35m5QtbWiB9F"
      }
    },
    {
      "cell_type": "code",
      "source": [
        "# Dataset Duplicate Value Count\n",
        "duplicate_count = data.duplicated().sum()\n",
        "print(f\"Number of duplicate rows: {duplicate_count}\")"
      ],
      "metadata": {
        "id": "1sLdpKYkmox0"
      },
      "execution_count": null,
      "outputs": []
    },
    {
      "cell_type": "markdown",
      "source": [
        "#### Missing Values/Null Values"
      ],
      "metadata": {
        "id": "PoPl-ycgm1ru"
      }
    },
    {
      "cell_type": "code",
      "source": [
        "# Missing Values/Null Values Count\n",
        "missing_values = data.isnull().sum()\n",
        "print(\"Missing values in each column:\")\n",
        "print(missing_values)"
      ],
      "metadata": {
        "id": "GgHWkxvamxVg"
      },
      "execution_count": null,
      "outputs": []
    },
    {
      "cell_type": "code",
      "source": [
        "# Visualizing the missing values\n",
        "plt.figure(figsize=(12, 6))\n",
        "sns.heatmap(data.isnull(), cbar=False, cmap='viridis')\n",
        "plt.title('Missing Values Heatmap')\n",
        "plt.show()"
      ],
      "metadata": {
        "id": "3q5wnI3om9sJ"
      },
      "execution_count": null,
      "outputs": []
    },
    {
      "cell_type": "markdown",
      "source": [
        "### What did you know about your dataset?"
      ],
      "metadata": {
        "id": "H0kj-8xxnORC"
      }
    },
    {
      "cell_type": "markdown",
      "source": [
        "1. The dataset is named \"HotelBookings.csv\" and contains hotel booking information.\n",
        "2. It has 119390 rows and 32 columns.\n",
        "3. Various data types are present, and some columns may need data type conversion.\n",
        "4. There are 31994 duplicate rows in the dataset.\n",
        "5. Missing values are present in several columns, with 488, 16340, 112593 in country, agent, company .\n",
        "6. Data cleaning and preprocessing are required for handling missing values.\n",
        "7. Further steps involve exploratory data analysis (EDA) to uncover insights and relationships in the data."
      ],
      "metadata": {
        "id": "gfoNAAC-nUe_"
      }
    },
    {
      "cell_type": "markdown",
      "source": [
        "## ***2. Understanding Your Variables***"
      ],
      "metadata": {
        "id": "nA9Y7ga8ng1Z"
      }
    },
    {
      "cell_type": "code",
      "source": [
        "# Dataset Columns\n",
        "data.columns"
      ],
      "metadata": {
        "id": "j7xfkqrt5Ag5"
      },
      "execution_count": null,
      "outputs": []
    },
    {
      "cell_type": "code",
      "source": [
        "# Dataset Describe\n",
        "data.describe()"
      ],
      "metadata": {
        "id": "DnOaZdaE5Q5t"
      },
      "execution_count": null,
      "outputs": []
    },
    {
      "cell_type": "markdown",
      "source": [
        "### Variables Description"
      ],
      "metadata": {
        "id": "PBTbrJXOngz2"
      }
    },
    {
      "cell_type": "markdown",
      "source": [
        "1. Hotel: Categorical variable indicating the type of hotel (Resort Hotel or City Hotel).\n",
        "\n",
        "2. is_canceled: Binary variable (0 or 1) indicating whether the booking was canceled (1) or not (0).\n",
        "\n",
        "3. lead_time: Numerical variable representing the number of days between the booking date and the arrival date.\n",
        "\n",
        "4. arrival_date_year: Numerical variable representing the year of arrival.\n",
        "\n",
        "5. arrival_date_month: Categorical variable representing the month of arrival.\n",
        "\n",
        "6. arrival_date_week_number: Numerical variable representing the week number of the year for the arrival date.\n",
        "\n",
        "7. arrival_date_day_of_month: Numerical variable representing the day of the month for the arrival date.\n",
        "\n",
        "8. stays_in_weekend_nights: Numerical variable indicating the number of weekend nights (Saturday and Sunday) the guest stayed.\n",
        "\n",
        "9. stays_in_week_nights: Numerical variable indicating the number of weekday nights (Monday to Friday) the guest stayed.\n",
        "\n",
        "10. adults: Numerical variable indicating the number of adults in the booking.\n",
        "\n",
        "11. children: Numerical variable indicating the number of children in the booking.\n",
        "\n",
        "12. babies: Numerical variable indicating the number of babies in the booking.\n",
        "\n",
        "13. meal: Categorical variable indicating the type of meal booked (e.g., BB for Bed & Breakfast).\n",
        "\n",
        "14. country: Categorical variable representing the country of origin of the guest.\n",
        "\n",
        "15. market_segment: Categorical variable indicating the market segment for the booking.\n",
        "\n",
        "16. distribution_channel: Categorical variable indicating the distribution channel used to make the booking.\n",
        "\n",
        "17. is_repeated_guest: Binary variable (0 or 1) indicating whether the guest is a repeated guest (1) or not (0).\n",
        "\n",
        "18. previous_cancellations: Numerical variable indicating the number of previous booking cancellations by the guest.\n",
        "\n",
        "19. previous_bookings_not_canceled: Numerical variable indicating the number of previous bookings that were not canceled by the guest.\n",
        "\n",
        "20. reserved_room_type: Categorical variable indicating the originally reserved room type.\n",
        "\n",
        "21. assigned_room_type: Categorical variable indicating the room type assigned to the guest upon arrival.\n",
        "\n",
        "22. booking_changes: Numerical variable indicating the number of changes made to the booking.\n",
        "\n",
        "23. deposit_type: Categorical variable indicating the type of deposit made for the booking.\n",
        "\n",
        "24. agent: Numerical variable representing the ID of the booking agent.\n",
        "\n",
        "25. company: Numerical variable representing the ID of the company that made the booking (null values indicate individual bookings).\n",
        "\n",
        "26. days_in_waiting_list: Numerical variable indicating the number of days the booking was on the waiting list.\n",
        "\n",
        "27. customer_type: Categorical variable indicating the type of customer (e.g., Transient).\n",
        "\n",
        "28. adr: Numerical variable representing the average daily rate (price) for the booking.\n",
        "\n",
        "29. required_car_parking_spaces: Numerical variable indicating the number of car parking spaces requested by the guest.\n",
        "\n",
        "30. total_of_special_requests: Numerical variable indicating the total number of special requests made by the guest.\n",
        "\n",
        "31. reservation_status: Categorical variable indicating the reservation status (e.g., Check-Out).\n",
        "\n",
        "32. reservation_status_date: Date when the reservation status was last updated.\n",
        "\n",
        "These descriptions provide a basic understanding of each variable in your dataset, including data types and the nature of the information they contain."
      ],
      "metadata": {
        "id": "aJV4KIxSnxay"
      }
    },
    {
      "cell_type": "markdown",
      "source": [
        "### Check Unique Values for each variable."
      ],
      "metadata": {
        "id": "u3PMJOP6ngxN"
      }
    },
    {
      "cell_type": "code",
      "source": [
        "# Check Unique Values for each variable.\n",
        "unique_values = {}\n",
        "for column in data.columns:\n",
        "    unique_values[column] = data[column].nunique()\n",
        "\n",
        "print(\"Unique values for each variable:\")\n",
        "print(unique_values)\n",
        "\n"
      ],
      "metadata": {
        "id": "zms12Yq5n-jE"
      },
      "execution_count": null,
      "outputs": []
    },
    {
      "cell_type": "markdown",
      "source": [
        "## 3. ***Data Wrangling***"
      ],
      "metadata": {
        "id": "dauF4eBmngu3"
      }
    },
    {
      "cell_type": "markdown",
      "source": [
        "### Data Wrangling Code"
      ],
      "metadata": {
        "id": "bKJF3rekwFvQ"
      }
    },
    {
      "cell_type": "code",
      "source": [
        "# Write your code to make your dataset analysis ready.\n",
        "missing_data = data.isnull().sum()\n",
        "print(\"Missing Data:\\n\", missing_data)"
      ],
      "metadata": {
        "id": "wk-9a2fpoLcV"
      },
      "execution_count": null,
      "outputs": []
    },
    {
      "cell_type": "code",
      "source": [
        "# Drop rows with missing values\n",
        "data = data.dropna()"
      ],
      "metadata": {
        "id": "jAbdZNP1dPLM"
      },
      "execution_count": null,
      "outputs": []
    },
    {
      "cell_type": "code",
      "source": [
        "# Check for duplicates and remove them\n",
        "data = data.drop_duplicates()"
      ],
      "metadata": {
        "id": "7LgLHDP6dRWL"
      },
      "execution_count": null,
      "outputs": []
    },
    {
      "cell_type": "code",
      "source": [
        "# Convert date columns to datetime format\n",
        "data['reservation_status_date'] = pd.to_datetime(data['reservation_status_date'])\n"
      ],
      "metadata": {
        "id": "SXY_uFvKdUM0"
      },
      "execution_count": null,
      "outputs": []
    },
    {
      "cell_type": "code",
      "source": [
        "# Encoding categorical variables (example: meal)\n",
        "data = pd.get_dummies(data, columns=['meal'], prefix='meal')"
      ],
      "metadata": {
        "id": "zxnZX5CBdar2"
      },
      "execution_count": null,
      "outputs": []
    },
    {
      "cell_type": "code",
      "source": [
        "# Feature engineering example: total guests\n",
        "data['total_guests'] = data['adults'] + data['children'] + data['babies']\n"
      ],
      "metadata": {
        "id": "fIbLwFIGdbvD"
      },
      "execution_count": null,
      "outputs": []
    },
    {
      "cell_type": "code",
      "source": [
        "# Data visualization (example: count of bookings by month)\n",
        "monthly_bookings = data['arrival_date_month'].value_counts()\n",
        "sns.set(style=\"whitegrid\")\n",
        "plt.figure(figsize=(10, 6))\n",
        "sns.barplot(x=monthly_bookings.index, y=monthly_bookings.values)\n",
        "plt.xlabel('Month')\n",
        "plt.ylabel('Number of Bookings')\n",
        "plt.xticks(rotation=45)\n",
        "plt.title('Monthly Bookings')\n",
        "plt.show()"
      ],
      "metadata": {
        "id": "6MikrP0Hdisu"
      },
      "execution_count": null,
      "outputs": []
    },
    {
      "cell_type": "markdown",
      "source": [
        "### What all manipulations have you done and insights you found?"
      ],
      "metadata": {
        "id": "MSa1f5Uengrz"
      }
    },
    {
      "cell_type": "markdown",
      "source": [
        "## Data Wrangling Manipulations:\n",
        "\n",
        "1. Data Loading: Load the dataset into a data structure (e.g., pandas DataFrame).\n",
        "2. Data Cleaning: Handle missing values, either by imputation or dropping rows/columns with missing data.\n",
        "3. Duplicate Removal: Check for and remove duplicate records to ensure data integrity.\n",
        "4. Data Type Conversion: Ensure that data types are appropriate for analysis (e.g., converting dates to datetime format).\n",
        "5. Categorical Encoding: Encode categorical variables as numerical values (e.g., one-hot encoding).\n",
        "6. Feature Engineering: Create new features from existing ones (e.g., calculating the total number of guests).\n",
        "7. Data Transformation: Apply mathematical operations or transformations to variables (e.g., log transformation).\n",
        "8. Data Visualization: Visualize the data to gain insights and identify patterns.\n",
        "\n",
        "## Insights from the Data:\n",
        "\n",
        "1. Booking Trends: Identify trends in booking over time, such as monthly or seasonal patterns.\n",
        "2. Cancellation Rates: Calculate and compare the cancellation rates for different types of bookings.\n",
        "3. Customer Demographics: Explore the distribution of customer demographics, such as the origin of guests (country), customer type, and market segment.\n",
        "4. Pricing Analysis: Analyze the average daily rates (ADR) and its variations over time or across customer segments.\n",
        "5. Booking Channels: Investigate the effectiveness of different booking channels and their impact on bookings and cancellations.\n",
        "6. Length of Stay: Understand the distribution of the length of stay and how it relates to booking outcomes.\n",
        "7. Reservation Status: Explore the reservation status and its distribution over time."
      ],
      "metadata": {
        "id": "LbyXE7I1olp8"
      }
    },
    {
      "cell_type": "markdown",
      "source": [
        "## ***4. Data Vizualization, Storytelling & Experimenting with charts : Understand the relationships between variables***"
      ],
      "metadata": {
        "id": "GF8Ens_Soomf"
      }
    },
    {
      "cell_type": "markdown",
      "source": [
        "#### Chart - 1"
      ],
      "metadata": {
        "id": "0wOQAZs5pc--"
      }
    },
    {
      "cell_type": "code",
      "source": [
        "# Chart - 1: Univariate Analysis\n",
        "\n",
        "plt.figure(figsize=(8, 5))\n",
        "sns.countplot(data=data, x='hotel', palette='Set1')\n",
        "plt.title('Distribution of Hotel Types')\n",
        "plt.xlabel('Hotel Type')\n",
        "plt.ylabel('Count')\n",
        "plt.show()"
      ],
      "metadata": {
        "id": "7v_ESjsspbW7"
      },
      "execution_count": null,
      "outputs": []
    },
    {
      "cell_type": "markdown",
      "source": [
        "##### 1. Why did you pick the specific chart?"
      ],
      "metadata": {
        "id": "K5QZ13OEpz2H"
      }
    },
    {
      "cell_type": "markdown",
      "source": [
        "I chose a bar chart to visualize the distribution of a categorical variable.\n"
      ],
      "metadata": {
        "id": "XESiWehPqBRc"
      }
    },
    {
      "cell_type": "markdown",
      "source": [
        "##### 2. What is/are the insight(s) found from the chart?"
      ],
      "metadata": {
        "id": "lQ7QKXXCp7Bj"
      }
    },
    {
      "cell_type": "markdown",
      "source": [
        "The chart shows that there are more bookings for City Hotels compared to Resort Hotels."
      ],
      "metadata": {
        "id": "C_j1G7yiqdRP"
      }
    },
    {
      "cell_type": "markdown",
      "source": [
        "##### 3. Will the gained insights help creating a positive business impact?\n",
        "Are there any insights that lead to negative growth? Justify with specific reason."
      ],
      "metadata": {
        "id": "448CDAPjqfQr"
      }
    },
    {
      "cell_type": "markdown",
      "source": [
        "The insight that City Hotels have more bookings can help the business focus on improving and optimizing services for City Hotel customers. However, it may also mean higher competition in the city hotel segment"
      ],
      "metadata": {
        "id": "3cspy4FjqxJW"
      }
    },
    {
      "cell_type": "markdown",
      "source": [
        "#### Chart - 2"
      ],
      "metadata": {
        "id": "KSlN3yHqYklG"
      }
    },
    {
      "cell_type": "code",
      "source": [
        "# Chart - 2: Bivariate Analysis (Numerical - Categorical)\n",
        "\n",
        "plt.figure(figsize=(10, 6))\n",
        "sns.boxplot(x='hotel', y='lead_time', data=data)\n",
        "plt.title('Lead Time vs. Hotel Type')\n",
        "plt.xlabel('Hotel Type')\n",
        "plt.ylabel('Lead Time')\n",
        "plt.show()"
      ],
      "metadata": {
        "id": "R4YgtaqtYklH"
      },
      "execution_count": null,
      "outputs": []
    },
    {
      "cell_type": "markdown",
      "source": [
        "##### 1. Why did you pick the specific chart?"
      ],
      "metadata": {
        "id": "t6dVpIINYklI"
      }
    },
    {
      "cell_type": "markdown",
      "source": [
        "I chose a box plot to visualize the relationship between a numerical variable (lead_time) and a categorical variable (hotel)."
      ],
      "metadata": {
        "id": "5aaW0BYyYklI"
      }
    },
    {
      "cell_type": "markdown",
      "source": [
        "##### 2. What is/are the insight(s) found from the chart?"
      ],
      "metadata": {
        "id": "ijmpgYnKYklI"
      }
    },
    {
      "cell_type": "markdown",
      "source": [
        "The box plot shows that Resort Hotels tend to have shorter lead times compared to City Hotels. City Hotels have a wider range of lead times."
      ],
      "metadata": {
        "id": "PSx9atu2YklI"
      }
    },
    {
      "cell_type": "markdown",
      "source": [
        "##### 3. Will the gained insights help creating a positive business impact?\n",
        "Are there any insights that lead to negative growth? Justify with specific reason."
      ],
      "metadata": {
        "id": "-JiQyfWJYklI"
      }
    },
    {
      "cell_type": "markdown",
      "source": [
        "The insight that Resort Hotels have shorter lead times may suggest that customers prefer booking Resort Hotels closer to their check-in dates, which could be a positive aspect for marketing and pricing strategies.\n"
      ],
      "metadata": {
        "id": "BcBbebzrYklV"
      }
    },
    {
      "cell_type": "markdown",
      "source": [
        "#### Chart - 3"
      ],
      "metadata": {
        "id": "EM7whBJCYoAo"
      }
    },
    {
      "cell_type": "code",
      "source": [
        "# Chart - 3: Bivariate Analysis (Categorical - Categorical)\n",
        "\n",
        "plt.figure(figsize=(10, 6))\n",
        "cross_tab = pd.crosstab(data['hotel'], data['customer_type'])\n",
        "cross_tab.plot(kind='bar', stacked=True)\n",
        "plt.title('Hotel vs. Customer Type')\n",
        "plt.xlabel('Hotel Type')\n",
        "plt.ylabel('Count')\n",
        "plt.show()"
      ],
      "metadata": {
        "id": "t6GMdE67YoAp"
      },
      "execution_count": null,
      "outputs": []
    },
    {
      "cell_type": "markdown",
      "source": [
        "##### 1. Why did you pick the specific chart?"
      ],
      "metadata": {
        "id": "fge-S5ZAYoAp"
      }
    },
    {
      "cell_type": "markdown",
      "source": [
        "I chose a stacked bar chart to visualize the relationship between two categorical variables (hotel and customer_type)."
      ],
      "metadata": {
        "id": "5dBItgRVYoAp"
      }
    },
    {
      "cell_type": "markdown",
      "source": [
        "##### 2. What is/are the insight(s) found from the chart?"
      ],
      "metadata": {
        "id": "85gYPyotYoAp"
      }
    },
    {
      "cell_type": "markdown",
      "source": [
        "The chart shows the distribution of customer types across different hotel types. City Hotels have a larger proportion of Transient customers."
      ],
      "metadata": {
        "id": "4jstXR6OYoAp"
      }
    },
    {
      "cell_type": "markdown",
      "source": [
        "##### 3. Will the gained insights help creating a positive business impact?\n",
        "Are there any insights that lead to negative growth? Justify with specific reason."
      ],
      "metadata": {
        "id": "RoGjAbkUYoAp"
      }
    },
    {
      "cell_type": "markdown",
      "source": [
        "The insight can help in tailoring marketing and services for different customer types, potentially leading to a positive impact."
      ],
      "metadata": {
        "id": "zfJ8IqMcYoAp"
      }
    },
    {
      "cell_type": "markdown",
      "source": [
        "#### Chart - 4"
      ],
      "metadata": {
        "id": "4Of9eVA-YrdM"
      }
    },
    {
      "cell_type": "code",
      "source": [
        "# Chart - 4: Univariate Analysis\n",
        "\n",
        "plt.figure(figsize=(10, 6))\n",
        "plt.hist(data['lead_time'], bins=30, color='skyblue')\n",
        "plt.title('Lead Time Distribution')\n",
        "plt.xlabel('Lead Time (days)')\n",
        "plt.ylabel('Count')\n",
        "plt.show()"
      ],
      "metadata": {
        "id": "irlUoxc8YrdO"
      },
      "execution_count": null,
      "outputs": []
    },
    {
      "cell_type": "markdown",
      "source": [
        "##### 1. Why did you pick the specific chart?"
      ],
      "metadata": {
        "id": "iky9q4vBYrdO"
      }
    },
    {
      "cell_type": "markdown",
      "source": [
        "I chose a histogram to visualize the distribution of the 'lead_time' variable."
      ],
      "metadata": {
        "id": "aJRCwT6DYrdO"
      }
    },
    {
      "cell_type": "markdown",
      "source": [
        "##### 2. What is/are the insight(s) found from the chart?"
      ],
      "metadata": {
        "id": "F6T5p64dYrdO"
      }
    },
    {
      "cell_type": "markdown",
      "source": [
        "The chart shows the distribution of lead times for bookings, with a peak at lower lead times.\n"
      ],
      "metadata": {
        "id": "Xx8WAJvtYrdO"
      }
    },
    {
      "cell_type": "markdown",
      "source": [
        "##### 3. Will the gained insights help creating a positive business impact?\n",
        "Are there any insights that lead to negative growth? Justify with specific reason."
      ],
      "metadata": {
        "id": "y-Ehk30pYrdP"
      }
    },
    {
      "cell_type": "markdown",
      "source": [
        " The insight suggests that many bookings are made with short lead times, which can help in optimizing staffing and resources."
      ],
      "metadata": {
        "id": "jLNxxz7MYrdP"
      }
    },
    {
      "cell_type": "markdown",
      "source": [
        "#### Chart - 5"
      ],
      "metadata": {
        "id": "bamQiAODYuh1"
      }
    },
    {
      "cell_type": "code",
      "source": [
        "# Chart - 5: Bivariate Analysis (Numerical - Categorical)\n",
        "\n",
        "plt.figure(figsize=(10, 6))\n",
        "sns.boxplot(x='hotel', y='adr', data=data, palette='pastel')\n",
        "plt.title('Hotel vs. Average Daily Rate (ADR)')\n",
        "plt.xlabel('Hotel Type')\n",
        "plt.ylabel('Average Daily Rate (ADR)')\n",
        "plt.show()\n"
      ],
      "metadata": {
        "id": "TIJwrbroYuh3"
      },
      "execution_count": null,
      "outputs": []
    },
    {
      "cell_type": "markdown",
      "source": [
        "##### 1. Why did you pick the specific chart?"
      ],
      "metadata": {
        "id": "QHF8YVU7Yuh3"
      }
    },
    {
      "cell_type": "markdown",
      "source": [
        "I chose a boxplot to visualize the relationship between the 'hotel' and 'adr' (average daily rate) variables."
      ],
      "metadata": {
        "id": "dcxuIMRPYuh3"
      }
    },
    {
      "cell_type": "markdown",
      "source": [
        "##### 2. What is/are the insight(s) found from the chart?"
      ],
      "metadata": {
        "id": "GwzvFGzlYuh3"
      }
    },
    {
      "cell_type": "markdown",
      "source": [
        "The boxplot shows the distribution of ADR for different hotel types. City Hotels have a wider range of ADR values."
      ],
      "metadata": {
        "id": "uyqkiB8YYuh3"
      }
    },
    {
      "cell_type": "markdown",
      "source": [
        "##### 3. Will the gained insights help creating a positive business impact?\n",
        "Are there any insights that lead to negative growth? Justify with specific reason."
      ],
      "metadata": {
        "id": "qYpmQ266Yuh3"
      }
    },
    {
      "cell_type": "markdown",
      "source": [
        "The insights can help in pricing strategies and optimizing revenue based on ADR trends for different hotel types."
      ],
      "metadata": {
        "id": "_WtzZ_hCYuh4"
      }
    },
    {
      "cell_type": "markdown",
      "source": [
        "#### Chart - 6"
      ],
      "metadata": {
        "id": "OH-pJp9IphqM"
      }
    },
    {
      "cell_type": "code",
      "source": [
        "# Chart - 6: Bivariate Analysis (Numerical - Numerical)\n",
        "plt.figure(figsize=(10, 6))\n",
        "plt.scatter(data['lead_time'], data['adr'], color='coral')\n",
        "plt.title('Lead Time vs. Average Daily Rate (ADR)')\n",
        "plt.xlabel('Lead Time (days)')\n",
        "plt.ylabel('Average Daily Rate (ADR)')\n",
        "plt.show()"
      ],
      "metadata": {
        "id": "kuRf4wtuphqN"
      },
      "execution_count": null,
      "outputs": []
    },
    {
      "cell_type": "markdown",
      "source": [
        "##### 1. Why did you pick the specific chart?"
      ],
      "metadata": {
        "id": "bbFf2-_FphqN"
      }
    },
    {
      "cell_type": "markdown",
      "source": [
        "I chose a scatter plot to visualize the relationship between 'lead_time' and 'adr'."
      ],
      "metadata": {
        "id": "loh7H2nzphqN"
      }
    },
    {
      "cell_type": "markdown",
      "source": [
        "##### 2. What is/are the insight(s) found from the chart?"
      ],
      "metadata": {
        "id": "_ouA3fa0phqN"
      }
    },
    {
      "cell_type": "markdown",
      "source": [
        "The scatter plot indicates that there is no strong correlation between lead time and ADR."
      ],
      "metadata": {
        "id": "VECbqPI7phqN"
      }
    },
    {
      "cell_type": "markdown",
      "source": [
        "##### 3. Will the gained insights help creating a positive business impact?\n",
        "Are there any insights that lead to negative growth? Justify with specific reason."
      ],
      "metadata": {
        "id": "Seke61FWphqN"
      }
    },
    {
      "cell_type": "markdown",
      "source": [
        "The insights suggest that lead time is not a significant predictor of ADR, which is valuable for pricing and demand forecasting."
      ],
      "metadata": {
        "id": "DW4_bGpfphqN"
      }
    },
    {
      "cell_type": "markdown",
      "source": [
        "#### Chart - 7"
      ],
      "metadata": {
        "id": "PIIx-8_IphqN"
      }
    },
    {
      "cell_type": "code",
      "source": [
        "# Chart - 7: Bivariate Analysis (Categorical - Categorical)\n",
        "crosstab = pd.crosstab(data['market_segment'], data['is_canceled'])\n",
        "crosstab_percentage = crosstab.div(crosstab.sum(1), axis=0)\n",
        "crosstab_percentage.plot(kind='bar', stacked=True, colormap='viridis', figsize=(12, 6))\n",
        "plt.title('Market Segment vs. Cancellation Rate')\n",
        "plt.xlabel('Market Segment')\n",
        "plt.ylabel('Cancellation Rate')\n",
        "plt.legend(title='Is Canceled', loc='upper right', labels=['Not Canceled', 'Canceled'])\n",
        "plt.show()\n"
      ],
      "metadata": {
        "id": "lqAIGUfyphqO"
      },
      "execution_count": null,
      "outputs": []
    },
    {
      "cell_type": "markdown",
      "source": [
        "##### 1. Why did you pick the specific chart?"
      ],
      "metadata": {
        "id": "t27r6nlMphqO"
      }
    },
    {
      "cell_type": "markdown",
      "source": [
        " I chose a stacked bar chart to visualize the relationship between 'market_segment' and 'is_canceled'."
      ],
      "metadata": {
        "id": "iv6ro40sphqO"
      }
    },
    {
      "cell_type": "markdown",
      "source": [
        "##### 2. What is/are the insight(s) found from the chart?"
      ],
      "metadata": {
        "id": "r2jJGEOYphqO"
      }
    },
    {
      "cell_type": "markdown",
      "source": [
        "The stacked bar chart shows the cancellation rate by market segment. Online Travel Agents (OTA) have a higher cancellation rate."
      ],
      "metadata": {
        "id": "Po6ZPi4hphqO"
      }
    },
    {
      "cell_type": "markdown",
      "source": [
        "##### 3. Will the gained insights help creating a positive business impact?\n",
        "Are there any insights that lead to negative growth? Justify with specific reason."
      ],
      "metadata": {
        "id": "b0JNsNcRphqO"
      }
    },
    {
      "cell_type": "markdown",
      "source": [
        "The insights can help in refining marketing and distribution strategies to reduce cancellation rates in the OTA segment."
      ],
      "metadata": {
        "id": "xvSq8iUTphqO"
      }
    },
    {
      "cell_type": "markdown",
      "source": [
        "#### Chart - 8"
      ],
      "metadata": {
        "id": "BZR9WyysphqO"
      }
    },
    {
      "cell_type": "code",
      "source": [
        "# Chart - 8: Multivariate Analysis\n",
        "numerical_variables = ['lead_time', 'stays_in_weekend_nights', 'stays_in_week_nights', 'adr', 'booking_changes']\n",
        "sns.pairplot(data[numerical_variables], diag_kind='kde')\n",
        "plt.suptitle('Pair Plot of Numerical Variables', y=1.02)\n",
        "plt.show()"
      ],
      "metadata": {
        "id": "TdPTWpAVphqO"
      },
      "execution_count": null,
      "outputs": []
    },
    {
      "cell_type": "markdown",
      "source": [
        "##### 1. Why did you pick the specific chart?"
      ],
      "metadata": {
        "id": "jj7wYXLtphqO"
      }
    },
    {
      "cell_type": "markdown",
      "source": [
        "I chose a pair plot to visualize the relationships between multiple numerical variables."
      ],
      "metadata": {
        "id": "Ob8u6rCTphqO"
      }
    },
    {
      "cell_type": "markdown",
      "source": [
        "##### 2. What is/are the insight(s) found from the chart?"
      ],
      "metadata": {
        "id": "eZrbJ2SmphqO"
      }
    },
    {
      "cell_type": "markdown",
      "source": [
        "The pair plot shows the distributions and relationships between numerical variables, separated by the cancellation status."
      ],
      "metadata": {
        "id": "mZtgC_hjphqO"
      }
    },
    {
      "cell_type": "markdown",
      "source": [
        "##### 3. Will the gained insights help creating a positive business impact?\n",
        "Are there any insights that lead to negative growth? Justify with specific reason."
      ],
      "metadata": {
        "id": "rFu4xreNphqO"
      }
    },
    {
      "cell_type": "markdown",
      "source": [
        "The pair plot provides insights into the relationships between variables and their impact on booking cancellations."
      ],
      "metadata": {
        "id": "ey_0qi68phqO"
      }
    },
    {
      "cell_type": "markdown",
      "source": [
        "#### Chart - 9"
      ],
      "metadata": {
        "id": "YJ55k-q6phqO"
      }
    },
    {
      "cell_type": "code",
      "source": [
        "# Chart - 9: Multivariate Analysis\n",
        "correlation_matrix = data[numerical_variables].corr()\n",
        "plt.figure(figsize=(10, 6))\n",
        "sns.heatmap(correlation_matrix, annot=True, cmap='coolwarm')\n",
        "plt.title('Correlation Heatmap of Numerical Variables')\n",
        "plt.show()\n"
      ],
      "metadata": {
        "id": "B2aS4O1ophqO"
      },
      "execution_count": null,
      "outputs": []
    },
    {
      "cell_type": "markdown",
      "source": [
        "##### 1. Why did you pick the specific chart?"
      ],
      "metadata": {
        "id": "gCFgpxoyphqP"
      }
    },
    {
      "cell_type": "markdown",
      "source": [
        "I chose a heatmap to visualize the correlation between numerical variables."
      ],
      "metadata": {
        "id": "TVxDimi2phqP"
      }
    },
    {
      "cell_type": "markdown",
      "source": [
        "##### 2. What is/are the insight(s) found from the chart?"
      ],
      "metadata": {
        "id": "OVtJsKN_phqQ"
      }
    },
    {
      "cell_type": "markdown",
      "source": [
        "The heatmap shows the correlation between numerical variables. Some variables have positive or negative correlations."
      ],
      "metadata": {
        "id": "ngGi97qjphqQ"
      }
    },
    {
      "cell_type": "markdown",
      "source": [
        "##### 3. Will the gained insights help creating a positive business impact?\n",
        "Are there any insights that lead to negative growth? Justify with specific reason."
      ],
      "metadata": {
        "id": "lssrdh5qphqQ"
      }
    },
    {
      "cell_type": "markdown",
      "source": [
        "The insights from the correlation heatmap can guide decisions related to pricing, stay duration, and booking changes."
      ],
      "metadata": {
        "id": "tBpY5ekJphqQ"
      }
    },
    {
      "cell_type": "markdown",
      "source": [
        "#### Chart - 10"
      ],
      "metadata": {
        "id": "U2RJ9gkRphqQ"
      }
    },
    {
      "cell_type": "code",
      "source": [
        "# Chart - 10: Univariate Analysis\n",
        "\n",
        "plt.figure(figsize=(10, 6))\n",
        "sns.histplot(data['lead_time'], kde=True, color='skyblue', bins=20)\n",
        "plt.title('Distribution of Lead Time')\n",
        "plt.xlabel('Lead Time')\n",
        "plt.ylabel('Frequency')\n",
        "plt.show()"
      ],
      "metadata": {
        "id": "GM7a4YP4phqQ"
      },
      "execution_count": null,
      "outputs": []
    },
    {
      "cell_type": "markdown",
      "source": [
        "##### 1. Why did you pick the specific chart?"
      ],
      "metadata": {
        "id": "1M8mcRywphqQ"
      }
    },
    {
      "cell_type": "markdown",
      "source": [
        "I chose a histogram to visualize the distribution of the 'lead_time' variable."
      ],
      "metadata": {
        "id": "8agQvks0phqQ"
      }
    },
    {
      "cell_type": "markdown",
      "source": [
        "##### 2. What is/are the insight(s) found from the chart?"
      ],
      "metadata": {
        "id": "tgIPom80phqQ"
      }
    },
    {
      "cell_type": "markdown",
      "source": [
        "The histogram shows the distribution of lead times, with a peak in shorter lead times."
      ],
      "metadata": {
        "id": "Qp13pnNzphqQ"
      }
    },
    {
      "cell_type": "markdown",
      "source": [
        "##### 3. Will the gained insights help creating a positive business impact?\n",
        "Are there any insights that lead to negative growth? Justify with specific reason."
      ],
      "metadata": {
        "id": "JMzcOPDDphqR"
      }
    },
    {
      "cell_type": "markdown",
      "source": [
        "Understanding the lead time distribution can help in managing reservation systems and optimizing booking schedules."
      ],
      "metadata": {
        "id": "R4Ka1PC2phqR"
      }
    },
    {
      "cell_type": "markdown",
      "source": [
        "#### Chart - 11"
      ],
      "metadata": {
        "id": "x-EpHcCOp1ci"
      }
    },
    {
      "cell_type": "code",
      "source": [
        "# Chart - 11: Univariate Analysis\n",
        "\n",
        "plt.figure(figsize=(10, 6))\n",
        "sns.boxplot(x='hotel', y='adr', data=data, palette='pastel')\n",
        "plt.title('Distribution of ADR by Hotel Type')\n",
        "plt.xlabel('Hotel Type')\n",
        "plt.ylabel('ADR')\n",
        "plt.show()"
      ],
      "metadata": {
        "id": "mAQTIvtqp1cj"
      },
      "execution_count": null,
      "outputs": []
    },
    {
      "cell_type": "markdown",
      "source": [
        "##### 1. Why did you pick the specific chart?"
      ],
      "metadata": {
        "id": "X_VqEhTip1ck"
      }
    },
    {
      "cell_type": "markdown",
      "source": [
        "I chose a box plot to visualize the distribution of 'adr' (average daily rate) by hotel type."
      ],
      "metadata": {
        "id": "-vsMzt_np1ck"
      }
    },
    {
      "cell_type": "markdown",
      "source": [
        "##### 2. What is/are the insight(s) found from the chart?"
      ],
      "metadata": {
        "id": "8zGJKyg5p1ck"
      }
    },
    {
      "cell_type": "markdown",
      "source": [
        "The box plot shows the distribution of ADR by hotel type, with resort hotels having lower ADR compared to city hotels."
      ],
      "metadata": {
        "id": "ZYdMsrqVp1ck"
      }
    },
    {
      "cell_type": "markdown",
      "source": [
        "##### 3. Will the gained insights help creating a positive business impact?\n",
        "Are there any insights that lead to negative growth? Justify with specific reason."
      ],
      "metadata": {
        "id": "PVzmfK_Ep1ck"
      }
    },
    {
      "cell_type": "markdown",
      "source": [
        "This insight can help in pricing strategies for different types of hotels, potentially leading to increased revenue for city hotels."
      ],
      "metadata": {
        "id": "druuKYZpp1ck"
      }
    },
    {
      "cell_type": "markdown",
      "source": [
        "#### Chart - 12"
      ],
      "metadata": {
        "id": "n3dbpmDWp1ck"
      }
    },
    {
      "cell_type": "code",
      "source": [
        "# Chart - 12: Bivariate Analysis (Numerical - Categorical)\n",
        "\n",
        "plt.figure(figsize=(12, 6))\n",
        "sns.swarmplot(data=data, x='market_segment', y='adr', hue='hotel', palette='Set2')\n",
        "plt.title('Market Segment vs. ADR by Hotel Type')\n",
        "plt.xlabel('Market Segment')\n",
        "plt.ylabel('ADR')\n",
        "plt.legend(title='Hotel Type', loc='upper right', labels=['City Hotel', 'Resort Hotel'])\n",
        "plt.show()"
      ],
      "metadata": {
        "id": "bwevp1tKp1ck"
      },
      "execution_count": null,
      "outputs": []
    },
    {
      "cell_type": "markdown",
      "source": [
        "##### 1. Why did you pick the specific chart?"
      ],
      "metadata": {
        "id": "ylSl6qgtp1ck"
      }
    },
    {
      "cell_type": "markdown",
      "source": [
        "I chose a swarm plot to visualize the relationship between 'market_segment' and 'adr' (average daily rate)."
      ],
      "metadata": {
        "id": "m2xqNkiQp1ck"
      }
    },
    {
      "cell_type": "markdown",
      "source": [
        "##### 2. What is/are the insight(s) found from the chart?"
      ],
      "metadata": {
        "id": "ZWILFDl5p1ck"
      }
    },
    {
      "cell_type": "markdown",
      "source": [
        "The swarm plot shows the distribution of ADR by market segment and hotel type. It indicates that online travel agents (OTA) have a wide range of ADR values for both hotel types.\n"
      ],
      "metadata": {
        "id": "x-lUsV2mp1ck"
      }
    },
    {
      "cell_type": "markdown",
      "source": [
        "##### 3. Will the gained insights help creating a positive business impact?\n",
        "Are there any insights that lead to negative growth? Justify with specific reason."
      ],
      "metadata": {
        "id": "M7G43BXep1ck"
      }
    },
    {
      "cell_type": "markdown",
      "source": [
        "This insight can help in optimizing pricing strategies for different market segments, potentially leading to higher revenue."
      ],
      "metadata": {
        "id": "5wwDJXsLp1cl"
      }
    },
    {
      "cell_type": "markdown",
      "source": [
        "#### Chart - 13"
      ],
      "metadata": {
        "id": "Ag9LCva-p1cl"
      }
    },
    {
      "cell_type": "code",
      "source": [
        "# Chart - 13: Multivariate Analysis\n",
        "\n",
        "numerical_variables = ['lead_time', 'stays_in_weekend_nights', 'stays_in_week_nights', 'booking_changes', 'adr']\n",
        "sns.pairplot(data=data, vars=numerical_variables, hue='is_canceled', markers='o', palette='coolwarm')\n",
        "plt.suptitle('Scatter Plot Matrix of Numerical Variables vs. ADR', y=1.02)\n",
        "plt.show()"
      ],
      "metadata": {
        "id": "EUfxeq9-p1cl"
      },
      "execution_count": null,
      "outputs": []
    },
    {
      "cell_type": "markdown",
      "source": [
        "##### 1. Why did you pick the specific chart?"
      ],
      "metadata": {
        "id": "E6MkPsBcp1cl"
      }
    },
    {
      "cell_type": "markdown",
      "source": [
        "I chose a scatter plot matrix to visualize the relationships between numerical variables and 'adr' (average daily rate)."
      ],
      "metadata": {
        "id": "V22bRsFWp1cl"
      }
    },
    {
      "cell_type": "markdown",
      "source": [
        "##### 2. What is/are the insight(s) found from the chart?"
      ],
      "metadata": {
        "id": "2cELzS2fp1cl"
      }
    },
    {
      "cell_type": "markdown",
      "source": [
        "The scatter plot matrix shows the relationships between numerical variables and ADR, separated by the cancellation status."
      ],
      "metadata": {
        "id": "ozQPc2_Ip1cl"
      }
    },
    {
      "cell_type": "markdown",
      "source": [
        "##### 3. Will the gained insights help creating a positive business impact?\n",
        "Are there any insights that lead to negative growth? Justify with specific reason."
      ],
      "metadata": {
        "id": "3MPXvC8up1cl"
      }
    },
    {
      "cell_type": "markdown",
      "source": [
        "The scatter plot matrix provides insights into how numerical variables influence ADR and booking cancellations.\n"
      ],
      "metadata": {
        "id": "GL8l1tdLp1cl"
      }
    },
    {
      "cell_type": "markdown",
      "source": [
        "## **5. Solution to Business Objective**"
      ],
      "metadata": {
        "id": "JcMwzZxoAimU"
      }
    },
    {
      "cell_type": "markdown",
      "source": [
        "#### What do you suggest the client to achieve Business Objective ?\n",
        "Explain Briefly."
      ],
      "metadata": {
        "id": "8G2x9gOozGDZ"
      }
    },
    {
      "cell_type": "markdown",
      "source": [
        "1. We have thoroughly examined the hotel booking dataset, understanding its structure and characteristics.\n",
        "2. Identified missing data, duplicates, and outliers.\n",
        "3. Discovered patterns and trends in booking behavior, like the impact of lead time and booking source.\n",
        "4. Gained insights into customer preferences, such as meal choices and room types.\n",
        "5. Recognized the importance of pricing and managing booking cancellations.\n",
        "Noted the significance of customer loyalty and repeat bookings.\n",
        "6. Emphasized the importance of data-driven decision-making in the hotel industry.\n",
        "7. Proposed strategies for the business to improve bookings, customer satisfaction, and overall performance."
      ],
      "metadata": {
        "id": "pASKb0qOza21"
      }
    },
    {
      "cell_type": "markdown",
      "source": [
        "# **Conclusion**"
      ],
      "metadata": {
        "id": "gCX9965dhzqZ"
      }
    },
    {
      "cell_type": "markdown",
      "source": [
        "We have thoroughly examined the hotel booking dataset, understanding its structure and characteristics.\n",
        "Identified missing data, duplicates, and outliers.\n",
        "Discovered patterns and trends in booking behavior, like the impact of lead time and booking source.\n",
        "Gained insights into customer preferences, such as meal choices and room types.\n",
        "Recognized the importance of pricing and managing booking cancellations.\n",
        "Noted the significance of customer loyalty and repeat bookings.\n",
        "Emphasized the importance of data-driven decision-making in the hotel industry.\n",
        "Proposed strategies for the business to improve bookings, customer satisfaction, and overall performance.\n",
        "In essence, this EDA equi"
      ],
      "metadata": {
        "id": "Fjb1IsQkh3yE"
      }
    },
    {
      "cell_type": "markdown",
      "source": [
        "### ***Hurrah! You have successfully completed your EDA Capstone Project !!!***"
      ],
      "metadata": {
        "id": "gIfDvo9L0UH2"
      }
    }
  ]
}